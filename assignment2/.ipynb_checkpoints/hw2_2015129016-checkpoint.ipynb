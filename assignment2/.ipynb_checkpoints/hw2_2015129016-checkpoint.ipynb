{
 "cells": [
  {
   "cell_type": "markdown",
   "metadata": {},
   "source": [
    "<h3> 1) 주어진 데이터(‘assignment2_data.xlsx’) 불러오기 및 numpy array화  </h3>"
   ]
  },
  {
   "cell_type": "code",
   "execution_count": 1,
   "metadata": {},
   "outputs": [],
   "source": [
    "import numpy as np\n",
    "import pandas as pd"
   ]
  },
  {
   "cell_type": "code",
   "execution_count": 2,
   "metadata": {},
   "outputs": [],
   "source": [
    "data = pd.read_excel('assignment2_data.xlsx')"
   ]
  },
  {
   "cell_type": "code",
   "execution_count": 3,
   "metadata": {},
   "outputs": [
    {
     "data": {
      "text/html": [
       "<div>\n",
       "<style scoped>\n",
       "    .dataframe tbody tr th:only-of-type {\n",
       "        vertical-align: middle;\n",
       "    }\n",
       "\n",
       "    .dataframe tbody tr th {\n",
       "        vertical-align: top;\n",
       "    }\n",
       "\n",
       "    .dataframe thead th {\n",
       "        text-align: right;\n",
       "    }\n",
       "</style>\n",
       "<table border=\"1\" class=\"dataframe\">\n",
       "  <thead>\n",
       "    <tr style=\"text-align: right;\">\n",
       "      <th></th>\n",
       "      <th>Is_successful</th>\n",
       "      <th>running_time</th>\n",
       "      <th>netizen_ratings</th>\n",
       "      <th>num_reviews</th>\n",
       "      <th>num_article</th>\n",
       "      <th>released_year</th>\n",
       "      <th>released_month</th>\n",
       "      <th>country_others</th>\n",
       "      <th>country_USA</th>\n",
       "      <th>country_Japan</th>\n",
       "      <th>...</th>\n",
       "      <th>genre_SF</th>\n",
       "      <th>genre_Horror</th>\n",
       "      <th>genre_Drama</th>\n",
       "      <th>genre_Romance</th>\n",
       "      <th>genre_Thriller</th>\n",
       "      <th>genre_Ani</th>\n",
       "      <th>genre_Action</th>\n",
       "      <th>genre_Adventure</th>\n",
       "      <th>genre_Comedy</th>\n",
       "      <th>genre_others</th>\n",
       "    </tr>\n",
       "  </thead>\n",
       "  <tbody>\n",
       "    <tr>\n",
       "      <th>0</th>\n",
       "      <td>success</td>\n",
       "      <td>108</td>\n",
       "      <td>9.20</td>\n",
       "      <td>31641</td>\n",
       "      <td>5800</td>\n",
       "      <td>2008</td>\n",
       "      <td>12</td>\n",
       "      <td>0</td>\n",
       "      <td>0</td>\n",
       "      <td>0</td>\n",
       "      <td>...</td>\n",
       "      <td>0</td>\n",
       "      <td>0</td>\n",
       "      <td>0</td>\n",
       "      <td>0</td>\n",
       "      <td>0</td>\n",
       "      <td>0</td>\n",
       "      <td>0</td>\n",
       "      <td>0</td>\n",
       "      <td>1</td>\n",
       "      <td>0</td>\n",
       "    </tr>\n",
       "    <tr>\n",
       "      <th>1</th>\n",
       "      <td>success</td>\n",
       "      <td>139</td>\n",
       "      <td>7.73</td>\n",
       "      <td>19836</td>\n",
       "      <td>2132</td>\n",
       "      <td>2008</td>\n",
       "      <td>7</td>\n",
       "      <td>0</td>\n",
       "      <td>0</td>\n",
       "      <td>0</td>\n",
       "      <td>...</td>\n",
       "      <td>0</td>\n",
       "      <td>0</td>\n",
       "      <td>0</td>\n",
       "      <td>0</td>\n",
       "      <td>0</td>\n",
       "      <td>0</td>\n",
       "      <td>0</td>\n",
       "      <td>0</td>\n",
       "      <td>0</td>\n",
       "      <td>1</td>\n",
       "    </tr>\n",
       "    <tr>\n",
       "      <th>2</th>\n",
       "      <td>success</td>\n",
       "      <td>123</td>\n",
       "      <td>9.09</td>\n",
       "      <td>16759</td>\n",
       "      <td>7129</td>\n",
       "      <td>2008</td>\n",
       "      <td>2</td>\n",
       "      <td>0</td>\n",
       "      <td>0</td>\n",
       "      <td>0</td>\n",
       "      <td>...</td>\n",
       "      <td>0</td>\n",
       "      <td>0</td>\n",
       "      <td>0</td>\n",
       "      <td>0</td>\n",
       "      <td>0</td>\n",
       "      <td>0</td>\n",
       "      <td>0</td>\n",
       "      <td>0</td>\n",
       "      <td>0</td>\n",
       "      <td>1</td>\n",
       "    </tr>\n",
       "    <tr>\n",
       "      <th>3</th>\n",
       "      <td>success</td>\n",
       "      <td>92</td>\n",
       "      <td>9.02</td>\n",
       "      <td>7993</td>\n",
       "      <td>58</td>\n",
       "      <td>2008</td>\n",
       "      <td>6</td>\n",
       "      <td>0</td>\n",
       "      <td>1</td>\n",
       "      <td>0</td>\n",
       "      <td>...</td>\n",
       "      <td>0</td>\n",
       "      <td>0</td>\n",
       "      <td>0</td>\n",
       "      <td>0</td>\n",
       "      <td>0</td>\n",
       "      <td>1</td>\n",
       "      <td>0</td>\n",
       "      <td>0</td>\n",
       "      <td>0</td>\n",
       "      <td>0</td>\n",
       "    </tr>\n",
       "    <tr>\n",
       "      <th>4</th>\n",
       "      <td>success</td>\n",
       "      <td>108</td>\n",
       "      <td>8.43</td>\n",
       "      <td>5982</td>\n",
       "      <td>196</td>\n",
       "      <td>2008</td>\n",
       "      <td>9</td>\n",
       "      <td>0</td>\n",
       "      <td>1</td>\n",
       "      <td>0</td>\n",
       "      <td>...</td>\n",
       "      <td>0</td>\n",
       "      <td>0</td>\n",
       "      <td>0</td>\n",
       "      <td>1</td>\n",
       "      <td>0</td>\n",
       "      <td>0</td>\n",
       "      <td>0</td>\n",
       "      <td>0</td>\n",
       "      <td>0</td>\n",
       "      <td>0</td>\n",
       "    </tr>\n",
       "  </tbody>\n",
       "</table>\n",
       "<p>5 rows × 25 columns</p>\n",
       "</div>"
      ],
      "text/plain": [
       "  Is_successful  running_time  netizen_ratings  num_reviews  num_article  \\\n",
       "0       success           108             9.20        31641         5800   \n",
       "1       success           139             7.73        19836         2132   \n",
       "2       success           123             9.09        16759         7129   \n",
       "3       success            92             9.02         7993           58   \n",
       "4       success           108             8.43         5982          196   \n",
       "\n",
       "   released_year  released_month  country_others  country_USA  country_Japan  \\\n",
       "0           2008              12               0            0              0   \n",
       "1           2008               7               0            0              0   \n",
       "2           2008               2               0            0              0   \n",
       "3           2008               6               0            1              0   \n",
       "4           2008               9               0            1              0   \n",
       "\n",
       "   ...  genre_SF  genre_Horror  genre_Drama  genre_Romance  genre_Thriller  \\\n",
       "0  ...         0             0            0              0               0   \n",
       "1  ...         0             0            0              0               0   \n",
       "2  ...         0             0            0              0               0   \n",
       "3  ...         0             0            0              0               0   \n",
       "4  ...         0             0            0              1               0   \n",
       "\n",
       "   genre_Ani  genre_Action  genre_Adventure  genre_Comedy  genre_others  \n",
       "0          0             0                0             1             0  \n",
       "1          0             0                0             0             1  \n",
       "2          0             0                0             0             1  \n",
       "3          1             0                0             0             0  \n",
       "4          0             0                0             0             0  \n",
       "\n",
       "[5 rows x 25 columns]"
      ]
     },
     "execution_count": 3,
     "metadata": {},
     "output_type": "execute_result"
    }
   ],
   "source": [
    "data.head()"
   ]
  },
  {
   "cell_type": "code",
   "execution_count": 4,
   "metadata": {},
   "outputs": [],
   "source": [
    "data_np = data.values"
   ]
  },
  {
   "cell_type": "markdown",
   "metadata": {},
   "source": [
    "<h3>  2) 종속변수(‘ls_successful’) 및 독립변수(feature) 구분  </h3>"
   ]
  },
  {
   "cell_type": "code",
   "execution_count": 5,
   "metadata": {},
   "outputs": [],
   "source": [
    "data_labels = data_np[:,0]\n",
    "data_features = data_np[:,1:] # feature selection; 하단 참조"
   ]
  },
  {
   "cell_type": "code",
   "execution_count": 6,
   "metadata": {
    "collapsed": true
   },
   "outputs": [
    {
     "data": {
      "text/plain": [
       "array(['success', 'success', 'success', 'success', 'success', 'success',\n",
       "       'success', 'success', 'success', 'success', 'success', 'success',\n",
       "       'success', 'success', 'success', 'success', 'success', 'failure',\n",
       "       'failure', 'failure', 'failure', 'failure', 'failure', 'failure',\n",
       "       'failure', 'failure', 'failure', 'failure', 'failure', 'failure',\n",
       "       'failure', 'failure', 'failure', 'failure', 'failure', 'failure',\n",
       "       'failure', 'failure', 'failure', 'failure', 'failure', 'failure',\n",
       "       'failure', 'failure', 'success', 'success', 'success', 'success',\n",
       "       'success', 'success', 'success', 'success', 'success', 'success',\n",
       "       'success', 'success', 'success', 'success', 'failure', 'failure',\n",
       "       'failure', 'failure', 'failure', 'failure', 'failure', 'failure',\n",
       "       'failure', 'failure', 'failure', 'failure', 'failure', 'failure',\n",
       "       'failure', 'failure', 'failure', 'failure', 'failure', 'failure',\n",
       "       'failure', 'failure', 'failure', 'failure', 'success', 'success',\n",
       "       'success', 'success', 'success', 'success', 'success', 'success',\n",
       "       'success', 'success', 'success', 'success', 'success', 'success',\n",
       "       'success', 'success', 'success', 'failure', 'failure', 'failure',\n",
       "       'failure', 'failure', 'failure', 'failure', 'failure', 'failure',\n",
       "       'failure', 'failure', 'failure', 'failure', 'failure', 'failure',\n",
       "       'failure', 'failure', 'failure', 'failure', 'failure', 'failure',\n",
       "       'failure', 'failure', 'failure', 'failure', 'success', 'success',\n",
       "       'success', 'success', 'success', 'success', 'success', 'success',\n",
       "       'success', 'success', 'success', 'success', 'success', 'success',\n",
       "       'success', 'success', 'success', 'success', 'success', 'success',\n",
       "       'failure', 'failure', 'failure', 'failure', 'failure', 'failure',\n",
       "       'failure', 'failure', 'failure', 'failure', 'failure', 'failure',\n",
       "       'failure', 'failure', 'failure', 'failure', 'failure', 'failure',\n",
       "       'failure', 'failure', 'failure', 'failure', 'failure', 'failure',\n",
       "       'failure', 'failure', 'failure', 'failure', 'failure', 'failure',\n",
       "       'failure', 'failure', 'failure', 'failure', 'failure', 'failure',\n",
       "       'failure', 'failure', 'failure', 'failure', 'failure', 'success',\n",
       "       'success', 'success', 'success', 'success', 'success', 'success',\n",
       "       'success', 'success', 'success', 'success', 'success', 'success',\n",
       "       'success', 'success', 'success', 'success', 'success', 'success',\n",
       "       'success', 'success', 'success', 'success', 'success', 'success',\n",
       "       'failure', 'failure', 'failure', 'failure', 'failure', 'failure',\n",
       "       'failure', 'failure', 'failure', 'failure', 'failure', 'failure',\n",
       "       'failure', 'failure', 'failure', 'failure', 'failure', 'failure',\n",
       "       'failure', 'failure', 'failure', 'failure', 'failure', 'failure',\n",
       "       'failure', 'failure', 'failure', 'failure', 'failure', 'failure',\n",
       "       'failure', 'failure', 'failure', 'failure', 'success', 'success',\n",
       "       'success', 'success', 'success', 'success', 'success', 'success',\n",
       "       'success', 'success', 'success', 'success', 'success', 'success',\n",
       "       'success', 'success', 'success', 'success', 'success', 'success',\n",
       "       'success', 'success', 'success', 'failure', 'failure', 'failure',\n",
       "       'failure', 'failure', 'failure', 'failure', 'failure', 'failure',\n",
       "       'failure', 'failure', 'failure', 'failure', 'failure', 'failure',\n",
       "       'failure', 'failure', 'failure', 'failure', 'success', 'success',\n",
       "       'success', 'success', 'success', 'success', 'success', 'success',\n",
       "       'success', 'success', 'success', 'success', 'success', 'success',\n",
       "       'success', 'success', 'success', 'success', 'success', 'success',\n",
       "       'success', 'success', 'success', 'success', 'failure', 'failure',\n",
       "       'failure', 'failure', 'failure', 'failure', 'failure', 'failure',\n",
       "       'failure', 'failure', 'failure', 'failure', 'failure', 'failure',\n",
       "       'failure', 'failure', 'failure', 'failure', 'failure', 'failure',\n",
       "       'failure', 'failure', 'failure', 'failure', 'failure', 'failure',\n",
       "       'failure', 'failure', 'failure', 'failure', 'failure', 'failure',\n",
       "       'failure', 'success', 'success', 'success', 'success', 'success',\n",
       "       'success', 'success', 'success', 'success', 'success', 'success',\n",
       "       'success', 'success', 'success', 'success', 'success', 'success',\n",
       "       'success', 'success', 'success', 'success', 'success', 'success',\n",
       "       'success', 'success', 'failure', 'failure', 'failure', 'failure',\n",
       "       'failure', 'failure', 'failure', 'failure', 'failure', 'failure',\n",
       "       'failure', 'failure', 'failure', 'failure', 'failure', 'failure',\n",
       "       'failure', 'failure', 'failure', 'failure', 'failure', 'failure',\n",
       "       'failure', 'failure', 'failure', 'failure', 'failure', 'failure',\n",
       "       'failure', 'failure', 'failure', 'failure', 'failure', 'failure',\n",
       "       'failure', 'failure', 'failure', 'failure', 'failure', 'failure',\n",
       "       'success', 'success', 'success', 'success', 'success', 'success',\n",
       "       'success', 'success', 'success', 'success', 'success', 'success',\n",
       "       'success', 'success', 'success', 'success', 'success', 'success',\n",
       "       'success', 'success', 'success', 'success', 'success', 'success',\n",
       "       'success', 'success', 'success', 'failure', 'failure', 'failure',\n",
       "       'failure', 'failure', 'failure', 'failure', 'failure', 'failure',\n",
       "       'failure', 'failure', 'failure', 'failure', 'failure', 'failure',\n",
       "       'failure', 'failure', 'failure', 'failure', 'failure', 'failure',\n",
       "       'failure', 'failure', 'failure', 'failure', 'failure', 'failure',\n",
       "       'failure', 'failure', 'failure', 'failure', 'failure', 'failure',\n",
       "       'failure', 'failure', 'failure', 'failure', 'failure', 'failure',\n",
       "       'failure', 'failure', 'failure', 'failure', 'failure', 'failure',\n",
       "       'failure', 'success', 'success', 'success', 'success', 'success',\n",
       "       'success', 'success', 'success', 'success', 'success', 'success',\n",
       "       'success', 'success', 'success', 'success', 'success', 'success',\n",
       "       'success', 'success', 'success', 'success', 'success', 'success',\n",
       "       'success', 'success', 'success', 'success', 'success', 'success',\n",
       "       'success', 'success', 'success', 'failure', 'failure', 'failure',\n",
       "       'failure', 'failure', 'failure', 'failure', 'failure', 'failure',\n",
       "       'failure', 'failure', 'failure', 'failure', 'failure', 'failure',\n",
       "       'failure', 'failure', 'failure', 'failure', 'failure', 'failure',\n",
       "       'failure', 'failure', 'failure', 'failure', 'failure', 'failure',\n",
       "       'failure', 'failure', 'failure', 'failure', 'failure', 'failure',\n",
       "       'failure', 'failure', 'failure'], dtype=object)"
      ]
     },
     "execution_count": 6,
     "metadata": {},
     "output_type": "execute_result"
    }
   ],
   "source": [
    "data_labels"
   ]
  },
  {
   "cell_type": "markdown",
   "metadata": {},
   "source": [
    "<h3> 3) 독립변수('data_labels') 값 전처리 (0 = 'failure', 1 = 'success') </h3>"
   ]
  },
  {
   "cell_type": "code",
   "execution_count": 7,
   "metadata": {},
   "outputs": [],
   "source": [
    "from sklearn import preprocessing\n",
    "le = preprocessing.LabelEncoder()\n",
    "input_classes =['failure','success']\n",
    "le.fit(input_classes)\n",
    "data_labels = le.transform(data_labels)"
   ]
  },
  {
   "cell_type": "code",
   "execution_count": 8,
   "metadata": {
    "collapsed": true
   },
   "outputs": [
    {
     "data": {
      "text/plain": [
       "array([1, 1, 1, 1, 1, 1, 1, 1, 1, 1, 1, 1, 1, 1, 1, 1, 1, 0, 0, 0, 0, 0,\n",
       "       0, 0, 0, 0, 0, 0, 0, 0, 0, 0, 0, 0, 0, 0, 0, 0, 0, 0, 0, 0, 0, 0,\n",
       "       1, 1, 1, 1, 1, 1, 1, 1, 1, 1, 1, 1, 1, 1, 0, 0, 0, 0, 0, 0, 0, 0,\n",
       "       0, 0, 0, 0, 0, 0, 0, 0, 0, 0, 0, 0, 0, 0, 0, 0, 1, 1, 1, 1, 1, 1,\n",
       "       1, 1, 1, 1, 1, 1, 1, 1, 1, 1, 1, 0, 0, 0, 0, 0, 0, 0, 0, 0, 0, 0,\n",
       "       0, 0, 0, 0, 0, 0, 0, 0, 0, 0, 0, 0, 0, 0, 1, 1, 1, 1, 1, 1, 1, 1,\n",
       "       1, 1, 1, 1, 1, 1, 1, 1, 1, 1, 1, 1, 0, 0, 0, 0, 0, 0, 0, 0, 0, 0,\n",
       "       0, 0, 0, 0, 0, 0, 0, 0, 0, 0, 0, 0, 0, 0, 0, 0, 0, 0, 0, 0, 0, 0,\n",
       "       0, 0, 0, 0, 0, 0, 0, 0, 0, 1, 1, 1, 1, 1, 1, 1, 1, 1, 1, 1, 1, 1,\n",
       "       1, 1, 1, 1, 1, 1, 1, 1, 1, 1, 1, 1, 0, 0, 0, 0, 0, 0, 0, 0, 0, 0,\n",
       "       0, 0, 0, 0, 0, 0, 0, 0, 0, 0, 0, 0, 0, 0, 0, 0, 0, 0, 0, 0, 0, 0,\n",
       "       0, 0, 1, 1, 1, 1, 1, 1, 1, 1, 1, 1, 1, 1, 1, 1, 1, 1, 1, 1, 1, 1,\n",
       "       1, 1, 1, 0, 0, 0, 0, 0, 0, 0, 0, 0, 0, 0, 0, 0, 0, 0, 0, 0, 0, 0,\n",
       "       1, 1, 1, 1, 1, 1, 1, 1, 1, 1, 1, 1, 1, 1, 1, 1, 1, 1, 1, 1, 1, 1,\n",
       "       1, 1, 0, 0, 0, 0, 0, 0, 0, 0, 0, 0, 0, 0, 0, 0, 0, 0, 0, 0, 0, 0,\n",
       "       0, 0, 0, 0, 0, 0, 0, 0, 0, 0, 0, 0, 0, 1, 1, 1, 1, 1, 1, 1, 1, 1,\n",
       "       1, 1, 1, 1, 1, 1, 1, 1, 1, 1, 1, 1, 1, 1, 1, 1, 0, 0, 0, 0, 0, 0,\n",
       "       0, 0, 0, 0, 0, 0, 0, 0, 0, 0, 0, 0, 0, 0, 0, 0, 0, 0, 0, 0, 0, 0,\n",
       "       0, 0, 0, 0, 0, 0, 0, 0, 0, 0, 0, 0, 1, 1, 1, 1, 1, 1, 1, 1, 1, 1,\n",
       "       1, 1, 1, 1, 1, 1, 1, 1, 1, 1, 1, 1, 1, 1, 1, 1, 1, 0, 0, 0, 0, 0,\n",
       "       0, 0, 0, 0, 0, 0, 0, 0, 0, 0, 0, 0, 0, 0, 0, 0, 0, 0, 0, 0, 0, 0,\n",
       "       0, 0, 0, 0, 0, 0, 0, 0, 0, 0, 0, 0, 0, 0, 0, 0, 0, 0, 0, 1, 1, 1,\n",
       "       1, 1, 1, 1, 1, 1, 1, 1, 1, 1, 1, 1, 1, 1, 1, 1, 1, 1, 1, 1, 1, 1,\n",
       "       1, 1, 1, 1, 1, 1, 1, 0, 0, 0, 0, 0, 0, 0, 0, 0, 0, 0, 0, 0, 0, 0,\n",
       "       0, 0, 0, 0, 0, 0, 0, 0, 0, 0, 0, 0, 0, 0, 0, 0, 0, 0, 0, 0, 0])"
      ]
     },
     "execution_count": 8,
     "metadata": {},
     "output_type": "execute_result"
    }
   ],
   "source": [
    "data_labels"
   ]
  },
  {
   "cell_type": "markdown",
   "metadata": {},
   "source": [
    "<h3> 4) train_test_split 함수를 이용하여 일정 비율로 학습/평가 데이터 구분 </h3>"
   ]
  },
  {
   "cell_type": "code",
   "execution_count": 9,
   "metadata": {},
   "outputs": [],
   "source": [
    "from sklearn.model_selection import train_test_split\n",
    "X_train, X_test, y_train, y_test = train_test_split(data_features, data_labels, test_size = 0.2, random_state=0)"
   ]
  },
  {
   "cell_type": "markdown",
   "metadata": {},
   "source": [
    "<h3> 5) LogisticRegression() 생성자 함수로 객체(‘lr_base’ 등) 생성 후 학습 데이터에 적합"
   ]
  },
  {
   "cell_type": "code",
   "execution_count": 10,
   "metadata": {},
   "outputs": [],
   "source": [
    "from sklearn.linear_model import LogisticRegression"
   ]
  },
  {
   "cell_type": "code",
   "execution_count": 11,
   "metadata": {},
   "outputs": [],
   "source": [
    "from sklearn.metrics import accuracy_score"
   ]
  },
  {
   "cell_type": "code",
   "execution_count": 12,
   "metadata": {
    "scrolled": true
   },
   "outputs": [
    {
     "data": {
      "text/plain": [
       "0.9818181818181818"
      ]
     },
     "execution_count": 12,
     "metadata": {},
     "output_type": "execute_result"
    }
   ],
   "source": [
    "lr_base = LogisticRegression(penalty='none', max_iter=10000)\n",
    "lr_base.fit(X_train, y_train)\n",
    "y_predictions = lr_base.predict(X_test)\n",
    "accuracy_score(y_test, y_predictions)"
   ]
  },
  {
   "cell_type": "code",
   "execution_count": 13,
   "metadata": {},
   "outputs": [
    {
     "data": {
      "text/plain": [
       "0.9818181818181818"
      ]
     },
     "execution_count": 13,
     "metadata": {},
     "output_type": "execute_result"
    }
   ],
   "source": [
    "lr_p1 = LogisticRegression(C=0.3, penalty='l1', solver = 'saga', max_iter=10000)\n",
    "lr_p1.fit(X_train, y_train)\n",
    "y_predictions = lr_base.predict(X_test)\n",
    "accuracy_score(y_test, y_predictions)"
   ]
  },
  {
   "cell_type": "code",
   "execution_count": 14,
   "metadata": {},
   "outputs": [
    {
     "data": {
      "text/plain": [
       "0.9727272727272728"
      ]
     },
     "execution_count": 14,
     "metadata": {},
     "output_type": "execute_result"
    }
   ],
   "source": [
    "lr_p2 = LogisticRegression(C=0.5, penalty='l2', solver='sag', max_iter=10000)\n",
    "lr_p2.fit(X_train, y_train)\n",
    "y_predictions = lr_p2.predict(X_test)\n",
    "accuracy_score(y_test, y_predictions)"
   ]
  },
  {
   "cell_type": "markdown",
   "metadata": {},
   "source": [
    "<h3> 6) 평가 데이터에 적용하여 예측력(R^2, 결정계수) 계산 </h3>"
   ]
  },
  {
   "cell_type": "code",
   "execution_count": 15,
   "metadata": {},
   "outputs": [
    {
     "name": "stdout",
     "output_type": "stream",
     "text": [
      "0.9818181818181818\n",
      "0.9727272727272728\n",
      "0.9727272727272728\n"
     ]
    }
   ],
   "source": [
    "print(lr_base.score(X_test, y_test))\n",
    "print(lr_p1.score(X_test, y_test))\n",
    "print(lr_p2.score(X_test, y_test))"
   ]
  },
  {
   "cell_type": "markdown",
   "metadata": {},
   "source": [
    "<h3> 참조) 학습/평가 셋 비율 및 독립변수(feature) 개수, penalty 및 validation folds 수 선정 </h3>"
   ]
  },
  {
   "cell_type": "code",
   "execution_count": 16,
   "metadata": {
    "collapsed": true
   },
   "outputs": [
    {
     "name": "stdout",
     "output_type": "stream",
     "text": [
      "1번째 모형의 결정계수 : 0.7504553734061931\n",
      "2번째 모형의 결정계수 : 0.7595628415300546\n",
      "3번째 모형의 결정계수 : 0.970856102003643\n",
      "4번째 모형의 결정계수 : 0.970856102003643\n",
      "5번째 모형의 결정계수 : 0.970856102003643\n",
      "6번째 모형의 결정계수 : 0.9653916211293261\n",
      "7번째 모형의 결정계수 : 0.9744990892531876\n",
      "8번째 모형의 결정계수 : 0.9726775956284153\n",
      "9번째 모형의 결정계수 : 0.9726775956284153\n",
      "10번째 모형의 결정계수 : 0.970856102003643\n",
      "11번째 모형의 결정계수 : 0.970856102003643\n",
      "12번째 모형의 결정계수 : 0.970856102003643\n",
      "13번째 모형의 결정계수 : 0.9726775956284153\n",
      "14번째 모형의 결정계수 : 0.9744990892531876\n",
      "15번째 모형의 결정계수 : 0.9744990892531876\n",
      "16번째 모형의 결정계수 : 0.9744990892531876\n",
      "17번째 모형의 결정계수 : 0.970856102003643\n",
      "18번째 모형의 결정계수 : 0.9726775956284153\n",
      "19번째 모형의 결정계수 : 0.9726775956284153\n",
      "20번째 모형의 결정계수 : 0.970856102003643\n",
      "21번째 모형의 결정계수 : 0.9672131147540983\n",
      "22번째 모형의 결정계수 : 0.9690346083788707\n",
      "23번째 모형의 결정계수 : 0.970856102003643\n",
      "24번째 모형의 결정계수 : 0.970856102003643\n",
      "25번째 모형의 결정계수 : 0.970856102003643\n"
     ]
    }
   ],
   "source": [
    "# 독립변수 갯수 (penalty = l2)\n",
    "\n",
    "y_tmp = data_np[:,0]\n",
    "\n",
    "model_featureselection = LogisticRegression(penalty='none', max_iter=10000)\n",
    "for i in range(1,26) :\n",
    "        X_tmp = data_np[:,1:i+1]\n",
    "        model_featureselection.fit(X_tmp, y_tmp)\n",
    "        print(str(i)+\"번째 모형의 결정계수 : \"+ str(model_featureselection.score(X_tmp, y_tmp)))"
   ]
  },
  {
   "cell_type": "code",
   "execution_count": 17,
   "metadata": {
    "collapsed": true
   },
   "outputs": [
    {
     "name": "stdout",
     "output_type": "stream",
     "text": [
      "1번째 모형의 결정계수 : 0.7304189435336976\n",
      "2번째 모형의 결정계수 : 0.6065573770491803\n",
      "3번째 모형의 결정계수 : 0.9744990892531876\n",
      "4번째 모형의 결정계수 : 0.9744990892531876\n",
      "5번째 모형의 결정계수 : 0.970856102003643\n",
      "6번째 모형의 결정계수 : 0.970856102003643\n",
      "7번째 모형의 결정계수 : 0.970856102003643\n",
      "8번째 모형의 결정계수 : 0.970856102003643\n",
      "9번째 모형의 결정계수 : 0.970856102003643\n",
      "10번째 모형의 결정계수 : 0.970856102003643\n",
      "11번째 모형의 결정계수 : 0.970856102003643\n",
      "12번째 모형의 결정계수 : 0.970856102003643\n",
      "13번째 모형의 결정계수 : 0.970856102003643\n",
      "14번째 모형의 결정계수 : 0.970856102003643\n",
      "15번째 모형의 결정계수 : 0.970856102003643\n",
      "16번째 모형의 결정계수 : 0.970856102003643\n",
      "17번째 모형의 결정계수 : 0.970856102003643\n",
      "18번째 모형의 결정계수 : 0.970856102003643\n",
      "19번째 모형의 결정계수 : 0.970856102003643\n",
      "20번째 모형의 결정계수 : 0.970856102003643\n",
      "21번째 모형의 결정계수 : 0.970856102003643\n",
      "22번째 모형의 결정계수 : 0.970856102003643\n",
      "23번째 모형의 결정계수 : 0.970856102003643\n",
      "24번째 모형의 결정계수 : 0.970856102003643\n",
      "25번째 모형의 결정계수 : 0.970856102003643\n"
     ]
    }
   ],
   "source": [
    "model_featureselection1 = LogisticRegression(C=0.3, penalty='l1', solver = 'saga', max_iter=10000)\n",
    "for i in range(1,26) :\n",
    "        X_tmp = data_np[:,1:i+1]\n",
    "        model_featureselection1.fit(X_tmp, y_tmp)\n",
    "        print(str(i)+\"번째 모형의 결정계수 : \"+ str(model_featureselection1.score(X_tmp, y_tmp)))"
   ]
  },
  {
   "cell_type": "code",
   "execution_count": 18,
   "metadata": {
    "collapsed": true
   },
   "outputs": [
    {
     "name": "stdout",
     "output_type": "stream",
     "text": [
      "1번째 모형의 결정계수 : 0.7340619307832422\n",
      "2번째 모형의 결정계수 : 0.604735883424408\n",
      "3번째 모형의 결정계수 : 0.9781420765027322\n",
      "4번째 모형의 결정계수 : 0.9781420765027322\n",
      "5번째 모형의 결정계수 : 0.970856102003643\n",
      "6번째 모형의 결정계수 : 0.970856102003643\n",
      "7번째 모형의 결정계수 : 0.970856102003643\n",
      "8번째 모형의 결정계수 : 0.970856102003643\n",
      "9번째 모형의 결정계수 : 0.970856102003643\n",
      "10번째 모형의 결정계수 : 0.970856102003643\n",
      "11번째 모형의 결정계수 : 0.970856102003643\n",
      "12번째 모형의 결정계수 : 0.970856102003643\n",
      "13번째 모형의 결정계수 : 0.970856102003643\n",
      "14번째 모형의 결정계수 : 0.970856102003643\n",
      "15번째 모형의 결정계수 : 0.970856102003643\n",
      "16번째 모형의 결정계수 : 0.970856102003643\n",
      "17번째 모형의 결정계수 : 0.970856102003643\n",
      "18번째 모형의 결정계수 : 0.970856102003643\n",
      "19번째 모형의 결정계수 : 0.970856102003643\n",
      "20번째 모형의 결정계수 : 0.970856102003643\n",
      "21번째 모형의 결정계수 : 0.970856102003643\n",
      "22번째 모형의 결정계수 : 0.970856102003643\n",
      "23번째 모형의 결정계수 : 0.970856102003643\n",
      "24번째 모형의 결정계수 : 0.970856102003643\n",
      "25번째 모형의 결정계수 : 0.970856102003643\n"
     ]
    }
   ],
   "source": [
    "model_featureselection2 = LogisticRegression(C=0.3, penalty='l2', solver='sag', max_iter=10000)\n",
    "for i in range(1,26) :\n",
    "        X_tmp = data_np[:,1:i+1]\n",
    "        model_featureselection2.fit(X_tmp, y_tmp)\n",
    "        print(str(i)+\"번째 모형의 결정계수 : \"+ str(model_featureselection2.score(X_tmp, y_tmp)))"
   ]
  },
  {
   "cell_type": "code",
   "execution_count": 21,
   "metadata": {
    "scrolled": false
   },
   "outputs": [
    {
     "name": "stdout",
     "output_type": "stream",
     "text": [
      "0.9727272727272728\n",
      "0.9636363636363636\n",
      "0.95\n"
     ]
    }
   ],
   "source": [
    "# 학습/평가 셋 비율 # l2, l1은 0.3, none은 0.2가 가장 높음\n",
    "from sklearn.metrics import accuracy_score\n",
    "\n",
    "X_train1, X_test1, y_train1, y_test1 = train_test_split(data_features, data_labels, test_size = 0.2)\n",
    "X_train2, X_test2, y_train2, y_test2 = train_test_split(data_features, data_labels, test_size = 0.3)\n",
    "X_train3, X_test3, y_train3, y_test3 = train_test_split(data_features, data_labels, test_size = 0.4)\n",
    "\n",
    "model_1 = LogisticRegression(penalty='none', max_iter=10000)\n",
    "model_1.fit(X_train1, y_train1)\n",
    "y_predictions_1 = model_1.predict(X_test1)\n",
    "print(accuracy_score(y_test1, y_predictions_1))\n",
    "\n",
    "model_2 = LogisticRegression(penalty='none', max_iter=10000)\n",
    "model_2.fit(X_train2, y_train2)\n",
    "y_predictions_2 = model_2.predict(X_test2)\n",
    "print(accuracy_score(y_test2, y_predictions_2))\n",
    "\n",
    "model_3 = LogisticRegression(penalty='none', max_iter=10000)\n",
    "model_3.fit(X_train3, y_train3)\n",
    "y_predictions_3 = model_3.predict(X_test3)\n",
    "print(accuracy_score(y_test3, y_predictions_3))"
   ]
  },
  {
   "cell_type": "code",
   "execution_count": 20,
   "metadata": {
    "collapsed": true
   },
   "outputs": [
    {
     "name": "stdout",
     "output_type": "stream",
     "text": [
      "0.9658466126176498\n",
      "0.9727114590128288\n",
      "0.9727114590128288\n",
      "0.9681295715778473\n",
      "0.974921630094044\n",
      "0.974921630094044\n",
      "0.9658400994806525\n",
      "0.9772145417306707\n",
      "0.9772145417306707\n"
     ]
    }
   ],
   "source": [
    "# penalty 선택\n",
    "model_base = LogisticRegression(penalty='none', max_iter=10000)\n",
    "model_base.fit(X_train, y_train)\n",
    "\n",
    "model_p1 = LogisticRegression(C=0.3, penalty='l1', solver = 'saga', max_iter=10000)\n",
    "model_p1.fit(X_train, y_train)\n",
    "\n",
    "model_p2 = LogisticRegression(C=0.3, penalty='l2', solver='sag', max_iter=10000)\n",
    "model_p2.fit(X_train, y_train)\n",
    "\n",
    "# validation folds 선정\n",
    "\n",
    "from sklearn.model_selection import cross_val_score\n",
    "\n",
    "# cross-validation folds = 3\n",
    "\n",
    "scores_base = cross_val_score(model_base, X_train, y_train, cv=3)\n",
    "print(scores_base.mean())\n",
    "scores_p1 = cross_val_score(model_p1, X_train, y_train, cv=3)\n",
    "print(scores_p1.mean())\n",
    "scores_p2 = cross_val_score(model_p2, X_train, y_train, cv=3)\n",
    "print(scores_p2.mean())\n",
    "\n",
    "# cross-validation folds = 5\n",
    "scores_base = cross_val_score(model_base, X_train, y_train, cv=5)\n",
    "print(scores_base.mean())\n",
    "scores_p1 = cross_val_score(model_p1, X_train, y_train, cv=5)\n",
    "print(scores_p1.mean())\n",
    "scores_p2 = cross_val_score(model_p2, X_train, y_train, cv=5)\n",
    "print(scores_p2.mean())\n",
    "\n",
    "# cross-validation folds = 7\n",
    "scores_base = cross_val_score(model_base, X_train, y_train, cv=7)\n",
    "print(scores_base.mean())\n",
    "scores_p1 = cross_val_score(model_p1, X_train, y_train, cv=7)\n",
    "print(scores_p1.mean())\n",
    "scores_p2 = cross_val_score(model_p2, X_train, y_train, cv=7)\n",
    "print(scores_p2.mean())"
   ]
  }
 ],
 "metadata": {
  "kernelspec": {
   "display_name": "Python 3",
   "language": "python",
   "name": "python3"
  },
  "language_info": {
   "codemirror_mode": {
    "name": "ipython",
    "version": 3
   },
   "file_extension": ".py",
   "mimetype": "text/x-python",
   "name": "python",
   "nbconvert_exporter": "python",
   "pygments_lexer": "ipython3",
   "version": "3.8.3"
  }
 },
 "nbformat": 4,
 "nbformat_minor": 4
}
