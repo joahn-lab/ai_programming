{
 "cells": [
  {
   "cell_type": "markdown",
   "metadata": {},
   "source": [
    "<h3> 1) 주어진 데이터(‘assignment1_data.xlsx’) 불러오기 및 numpy array화 </h3>"
   ]
  },
  {
   "cell_type": "code",
   "execution_count": 55,
   "metadata": {},
   "outputs": [],
   "source": [
    "import numpy as np\n",
    "import pandas as pd"
   ]
  },
  {
   "cell_type": "code",
   "execution_count": 56,
   "metadata": {},
   "outputs": [],
   "source": [
    "data = pd.read_excel('assignment1_data.xlsx')"
   ]
  },
  {
   "cell_type": "code",
   "execution_count": 57,
   "metadata": {
    "collapsed": true
   },
   "outputs": [
    {
     "data": {
      "text/html": [
       "<div>\n",
       "<style scoped>\n",
       "    .dataframe tbody tr th:only-of-type {\n",
       "        vertical-align: middle;\n",
       "    }\n",
       "\n",
       "    .dataframe tbody tr th {\n",
       "        vertical-align: top;\n",
       "    }\n",
       "\n",
       "    .dataframe thead th {\n",
       "        text-align: right;\n",
       "    }\n",
       "</style>\n",
       "<table border=\"1\" class=\"dataframe\">\n",
       "  <thead>\n",
       "    <tr style=\"text-align: right;\">\n",
       "      <th></th>\n",
       "      <th>num_viewers</th>\n",
       "      <th>title</th>\n",
       "      <th>running_time</th>\n",
       "      <th>netizen_ratings</th>\n",
       "      <th>num_reviews</th>\n",
       "      <th>num_article</th>\n",
       "      <th>released_year</th>\n",
       "      <th>released_month</th>\n",
       "      <th>country_others</th>\n",
       "      <th>country_USA</th>\n",
       "      <th>...</th>\n",
       "      <th>genre_SF</th>\n",
       "      <th>genre_Horror</th>\n",
       "      <th>genre_Drama</th>\n",
       "      <th>genre_Romance</th>\n",
       "      <th>genre_Thriller</th>\n",
       "      <th>genre_Ani</th>\n",
       "      <th>genre_Action</th>\n",
       "      <th>genre_Adventure</th>\n",
       "      <th>genre_Comedy</th>\n",
       "      <th>genre_others</th>\n",
       "    </tr>\n",
       "  </thead>\n",
       "  <tbody>\n",
       "    <tr>\n",
       "      <th>0</th>\n",
       "      <td>94993</td>\n",
       "      <td>소년은 울지 않는다</td>\n",
       "      <td>98</td>\n",
       "      <td>5.62</td>\n",
       "      <td>266</td>\n",
       "      <td>352</td>\n",
       "      <td>2008</td>\n",
       "      <td>11</td>\n",
       "      <td>0</td>\n",
       "      <td>0</td>\n",
       "      <td>...</td>\n",
       "      <td>0</td>\n",
       "      <td>0</td>\n",
       "      <td>0</td>\n",
       "      <td>0</td>\n",
       "      <td>0</td>\n",
       "      <td>0</td>\n",
       "      <td>1</td>\n",
       "      <td>0</td>\n",
       "      <td>0</td>\n",
       "      <td>0</td>\n",
       "    </tr>\n",
       "    <tr>\n",
       "      <th>1</th>\n",
       "      <td>1240953</td>\n",
       "      <td>꿀벌대소동</td>\n",
       "      <td>88</td>\n",
       "      <td>8.09</td>\n",
       "      <td>1291</td>\n",
       "      <td>0</td>\n",
       "      <td>2008</td>\n",
       "      <td>1</td>\n",
       "      <td>0</td>\n",
       "      <td>1</td>\n",
       "      <td>...</td>\n",
       "      <td>0</td>\n",
       "      <td>0</td>\n",
       "      <td>0</td>\n",
       "      <td>0</td>\n",
       "      <td>0</td>\n",
       "      <td>0</td>\n",
       "      <td>0</td>\n",
       "      <td>0</td>\n",
       "      <td>0</td>\n",
       "      <td>1</td>\n",
       "    </tr>\n",
       "    <tr>\n",
       "      <th>2</th>\n",
       "      <td>431376</td>\n",
       "      <td>마법에 걸린 사랑</td>\n",
       "      <td>106</td>\n",
       "      <td>8.99</td>\n",
       "      <td>3105</td>\n",
       "      <td>17</td>\n",
       "      <td>2008</td>\n",
       "      <td>1</td>\n",
       "      <td>0</td>\n",
       "      <td>1</td>\n",
       "      <td>...</td>\n",
       "      <td>0</td>\n",
       "      <td>0</td>\n",
       "      <td>0</td>\n",
       "      <td>1</td>\n",
       "      <td>0</td>\n",
       "      <td>0</td>\n",
       "      <td>0</td>\n",
       "      <td>0</td>\n",
       "      <td>0</td>\n",
       "      <td>0</td>\n",
       "    </tr>\n",
       "    <tr>\n",
       "      <th>3</th>\n",
       "      <td>590409</td>\n",
       "      <td>뜨거운 것이 좋아</td>\n",
       "      <td>114</td>\n",
       "      <td>6.84</td>\n",
       "      <td>3198</td>\n",
       "      <td>997</td>\n",
       "      <td>2008</td>\n",
       "      <td>1</td>\n",
       "      <td>0</td>\n",
       "      <td>0</td>\n",
       "      <td>...</td>\n",
       "      <td>0</td>\n",
       "      <td>0</td>\n",
       "      <td>1</td>\n",
       "      <td>0</td>\n",
       "      <td>0</td>\n",
       "      <td>0</td>\n",
       "      <td>0</td>\n",
       "      <td>0</td>\n",
       "      <td>0</td>\n",
       "      <td>0</td>\n",
       "    </tr>\n",
       "    <tr>\n",
       "      <th>4</th>\n",
       "      <td>422363</td>\n",
       "      <td>기다리다 미쳐</td>\n",
       "      <td>108</td>\n",
       "      <td>7.37</td>\n",
       "      <td>1547</td>\n",
       "      <td>225</td>\n",
       "      <td>2008</td>\n",
       "      <td>1</td>\n",
       "      <td>0</td>\n",
       "      <td>0</td>\n",
       "      <td>...</td>\n",
       "      <td>0</td>\n",
       "      <td>0</td>\n",
       "      <td>0</td>\n",
       "      <td>1</td>\n",
       "      <td>0</td>\n",
       "      <td>0</td>\n",
       "      <td>0</td>\n",
       "      <td>0</td>\n",
       "      <td>0</td>\n",
       "      <td>0</td>\n",
       "    </tr>\n",
       "  </tbody>\n",
       "</table>\n",
       "<p>5 rows × 26 columns</p>\n",
       "</div>"
      ],
      "text/plain": [
       "   num_viewers       title  running_time  netizen_ratings  num_reviews  \\\n",
       "0        94993  소년은 울지 않는다            98             5.62          266   \n",
       "1      1240953       꿀벌대소동            88             8.09         1291   \n",
       "2       431376   마법에 걸린 사랑           106             8.99         3105   \n",
       "3       590409   뜨거운 것이 좋아           114             6.84         3198   \n",
       "4       422363     기다리다 미쳐           108             7.37         1547   \n",
       "\n",
       "   num_article  released_year  released_month  country_others  country_USA  \\\n",
       "0          352           2008              11               0            0   \n",
       "1            0           2008               1               0            1   \n",
       "2           17           2008               1               0            1   \n",
       "3          997           2008               1               0            0   \n",
       "4          225           2008               1               0            0   \n",
       "\n",
       "   ...  genre_SF  genre_Horror  genre_Drama  genre_Romance  genre_Thriller  \\\n",
       "0  ...         0             0            0              0               0   \n",
       "1  ...         0             0            0              0               0   \n",
       "2  ...         0             0            0              1               0   \n",
       "3  ...         0             0            1              0               0   \n",
       "4  ...         0             0            0              1               0   \n",
       "\n",
       "   genre_Ani  genre_Action  genre_Adventure  genre_Comedy  genre_others  \n",
       "0          0             1                0             0             0  \n",
       "1          0             0                0             0             1  \n",
       "2          0             0                0             0             0  \n",
       "3          0             0                0             0             0  \n",
       "4          0             0                0             0             0  \n",
       "\n",
       "[5 rows x 26 columns]"
      ]
     },
     "execution_count": 57,
     "metadata": {},
     "output_type": "execute_result"
    }
   ],
   "source": [
    "data.head()"
   ]
  },
  {
   "cell_type": "code",
   "execution_count": 58,
   "metadata": {},
   "outputs": [],
   "source": [
    "data_np = data.values"
   ]
  },
  {
   "cell_type": "markdown",
   "metadata": {},
   "source": [
    "<h3> 2) 종속변수(‘num_viewers’) 및 독립변수(feature) 구분 </h3>"
   ]
  },
  {
   "cell_type": "code",
   "execution_count": 59,
   "metadata": {},
   "outputs": [],
   "source": [
    "y = data_np[:,0]\n",
    "X = data_np[:,2:] # 독립변수(feature) 반영 정도에 따른 모형 예측력은 하단 코드 참조"
   ]
  },
  {
   "cell_type": "markdown",
   "metadata": {},
   "source": [
    "<h3> 3) train_test_split 함수를 이용하여 7:3 비율로 학습/평가 데이터 구분 </h3>"
   ]
  },
  {
   "cell_type": "code",
   "execution_count": 60,
   "metadata": {},
   "outputs": [],
   "source": [
    "from sklearn.model_selection import train_test_split\n",
    "X_train, X_test, y_train, y_test = train_test_split(X, y, test_size = 0.3) # 8:2, 6:4 비율 설정에 따른 모형 예측력은 하단 코드 참조"
   ]
  },
  {
   "cell_type": "code",
   "execution_count": 61,
   "metadata": {},
   "outputs": [
    {
     "data": {
      "text/plain": [
       "(984, 24)"
      ]
     },
     "execution_count": 61,
     "metadata": {},
     "output_type": "execute_result"
    }
   ],
   "source": [
    "X_train.shape"
   ]
  },
  {
   "cell_type": "code",
   "execution_count": 62,
   "metadata": {},
   "outputs": [
    {
     "data": {
      "text/plain": [
       "(984,)"
      ]
     },
     "execution_count": 62,
     "metadata": {},
     "output_type": "execute_result"
    }
   ],
   "source": [
    "y_train.shape"
   ]
  },
  {
   "cell_type": "markdown",
   "metadata": {},
   "source": [
    "<h3> 4) LinearRegression() 생성자 함수로 객체(‘model’ 등) 생성 후 학습 데이터에 적합 </h3>"
   ]
  },
  {
   "cell_type": "code",
   "execution_count": 63,
   "metadata": {},
   "outputs": [
    {
     "data": {
      "text/plain": [
       "LinearRegression()"
      ]
     },
     "execution_count": 63,
     "metadata": {},
     "output_type": "execute_result"
    }
   ],
   "source": [
    "from sklearn.linear_model import LinearRegression\n",
    "model = LinearRegression()\n",
    "model.fit(X_train, y_train)"
   ]
  },
  {
   "cell_type": "code",
   "execution_count": 64,
   "metadata": {},
   "outputs": [
    {
     "data": {
      "text/plain": [
       "LinearRegression(fit_intercept=False)"
      ]
     },
     "execution_count": 64,
     "metadata": {},
     "output_type": "execute_result"
    }
   ],
   "source": [
    "model1 = LinearRegression(fit_intercept = False)\n",
    "model1.fit(X_train, y_train)"
   ]
  },
  {
   "cell_type": "code",
   "execution_count": 65,
   "metadata": {},
   "outputs": [],
   "source": [
    "# Feature Scaling 1 / Standardization\n",
    "from sklearn.preprocessing import StandardScaler\n",
    "scaler = StandardScaler()"
   ]
  },
  {
   "cell_type": "code",
   "execution_count": 66,
   "metadata": {},
   "outputs": [],
   "source": [
    "X_train_std = scaler.fit_transform(X_train) # 독립변수만 scaling\n",
    "X_test_std = scaler.transform(X_test) # 독립변수만 scaling"
   ]
  },
  {
   "cell_type": "code",
   "execution_count": 67,
   "metadata": {},
   "outputs": [
    {
     "data": {
      "text/plain": [
       "LinearRegression()"
      ]
     },
     "execution_count": 67,
     "metadata": {},
     "output_type": "execute_result"
    }
   ],
   "source": [
    "model_std = LinearRegression()\n",
    "model_std.fit(X_train_std, y_train)"
   ]
  },
  {
   "cell_type": "code",
   "execution_count": 68,
   "metadata": {},
   "outputs": [
    {
     "data": {
      "text/plain": [
       "LinearRegression(fit_intercept=False)"
      ]
     },
     "execution_count": 68,
     "metadata": {},
     "output_type": "execute_result"
    }
   ],
   "source": [
    "# Standardization, fit_intercept = False\n",
    "model_std1 = LinearRegression(fit_intercept = False)\n",
    "model_std1.fit(X_train_std, y_train)"
   ]
  },
  {
   "cell_type": "code",
   "execution_count": 69,
   "metadata": {},
   "outputs": [],
   "source": [
    "# Feature Scaling 2 / Min-max scaling\n",
    "\n",
    "from sklearn.preprocessing import MinMaxScaler\n",
    "scaler_minmax = MinMaxScaler()"
   ]
  },
  {
   "cell_type": "code",
   "execution_count": 70,
   "metadata": {},
   "outputs": [],
   "source": [
    "X_train_minmax = scaler_minmax.fit_transform(X_train)\n",
    "X_test_minmax = scaler_minmax.transform(X_test)"
   ]
  },
  {
   "cell_type": "code",
   "execution_count": 71,
   "metadata": {},
   "outputs": [
    {
     "data": {
      "text/plain": [
       "LinearRegression()"
      ]
     },
     "execution_count": 71,
     "metadata": {},
     "output_type": "execute_result"
    }
   ],
   "source": [
    "model_minmax = LinearRegression()\n",
    "model_minmax.fit(X_train_minmax, y_train)"
   ]
  },
  {
   "cell_type": "code",
   "execution_count": 72,
   "metadata": {},
   "outputs": [
    {
     "data": {
      "text/plain": [
       "LinearRegression(fit_intercept=False)"
      ]
     },
     "execution_count": 72,
     "metadata": {},
     "output_type": "execute_result"
    }
   ],
   "source": [
    "# Min-max scaling, fit_intercept = False\n",
    "\n",
    "model_minmax1 = LinearRegression(fit_intercept = False)\n",
    "model_minmax1.fit(X_train_minmax, y_train)"
   ]
  },
  {
   "cell_type": "code",
   "execution_count": 73,
   "metadata": {},
   "outputs": [],
   "source": [
    "# Cross-validation\n",
    "# validation folds에 따른 모형 예측력은 하단 코드 참조\n",
    "\n",
    "from sklearn.model_selection import cross_val_score"
   ]
  },
  {
   "cell_type": "code",
   "execution_count": 74,
   "metadata": {
    "scrolled": true
   },
   "outputs": [
    {
     "name": "stdout",
     "output_type": "stream",
     "text": [
      "0.7401615873641952\n",
      "0.7401615873642048\n",
      "0.7396854047467084\n",
      "0.365497215251456\n",
      "0.7401336776950262\n",
      "0.7401615873641982\n"
     ]
    }
   ],
   "source": [
    "scores = cross_val_score(model, X_train, y_train, cv=5)\n",
    "print(scores.mean())\n",
    "scores1 = cross_val_score(model1, X_train, y_train, cv=5)\n",
    "print(scores1.mean())\n",
    "scores_std = cross_val_score(model_std, X_train_std, y_train, cv=5)\n",
    "print(scores_std.mean())\n",
    "scores_std1 = cross_val_score(model_std1, X_train_std, y_train, cv=5)\n",
    "print(scores_std1.mean())\n",
    "scores_minmax = cross_val_score(model_minmax, X_train_minmax, y_train, cv=5)\n",
    "print(scores_minmax.mean())\n",
    "scores_minmax1 = cross_val_score(model_minmax1, X_train_minmax, y_train, cv=5)\n",
    "print(scores_minmax1.mean())"
   ]
  },
  {
   "cell_type": "markdown",
   "metadata": {},
   "source": [
    "<h3> 5) 평가 데이터에 적용하여 예측력(R^2,  결정계수) 계산 </h3>"
   ]
  },
  {
   "cell_type": "code",
   "execution_count": 88,
   "metadata": {},
   "outputs": [
    {
     "data": {
      "text/plain": [
       "0.7133122527209199"
      ]
     },
     "execution_count": 88,
     "metadata": {},
     "output_type": "execute_result"
    }
   ],
   "source": [
    "model_minmax1.score(X_test_minmax, y_test)"
   ]
  },
  {
   "cell_type": "markdown",
   "metadata": {},
   "source": [
    "<h3> 참조: 학습/평가 데이터 비율 및 독립변수(feature), validation folds 수 선정 </h3>"
   ]
  },
  {
   "cell_type": "code",
   "execution_count": 76,
   "metadata": {
    "collapsed": true
   },
   "outputs": [
    {
     "name": "stdout",
     "output_type": "stream",
     "text": [
      "1번째 모형의 결정계수 : 0.09743997714385344\n",
      "2번째 모형의 결정계수 : 0.12378689945591226\n",
      "3번째 모형의 결정계수 : 0.7146579938799095\n",
      "4번째 모형의 결정계수 : 0.7259954787835139\n",
      "5번째 모형의 결정계수 : 0.7315344307615185\n",
      "6번째 모형의 결정계수 : 0.7315347304968903\n",
      "7번째 모형의 결정계수 : 0.7327309908544117\n",
      "8번째 모형의 결정계수 : 0.7371084185155652\n",
      "9번째 모형의 결정계수 : 0.7371101091305661\n",
      "10번째 모형의 결정계수 : 0.737110109130566\n",
      "11번째 모형의 결정계수 : 0.7371783802490208\n",
      "12번째 모형의 결정계수 : 0.737223925494453\n",
      "13번째 모형의 결정계수 : 0.7430336816296539\n",
      "14번째 모형의 결정계수 : 0.7430336816296539\n",
      "15번째 모형의 결정계수 : 0.7431769804016436\n",
      "16번째 모형의 결정계수 : 0.7431956110725619\n",
      "17번째 모형의 결정계수 : 0.7478091497686088\n",
      "18번째 모형의 결정계수 : 0.7502972821832968\n",
      "19번째 모형의 결정계수 : 0.7506143399130412\n",
      "20번째 모형의 결정계수 : 0.7508139595440075\n",
      "21번째 모형의 결정계수 : 0.7529533826874679\n",
      "22번째 모형의 결정계수 : 0.7530061349632753\n",
      "23번째 모형의 결정계수 : 0.75300613499234\n",
      "24번째 모형의 결정계수 : 0.75300613499234\n",
      "25번째 모형의 결정계수 : 0.75300613499234\n"
     ]
    }
   ],
   "source": [
    "y_tmp = data_np[:,0]\n",
    "\n",
    "model_featureselection = LinearRegression()\n",
    "for i in range(1,26) :\n",
    "        X_tmp = data_np[:,2:i+2]\n",
    "        model_featureselection.fit(X_tmp, y_tmp)\n",
    "        print(str(i)+\"번째 모형의 결정계수 : \"+ str(model_featureselection.score(X_tmp, y_tmp)))"
   ]
  },
  {
   "cell_type": "code",
   "execution_count": 77,
   "metadata": {},
   "outputs": [
    {
     "data": {
      "text/plain": [
       "LinearRegression(fit_intercept=False)"
      ]
     },
     "execution_count": 77,
     "metadata": {},
     "output_type": "execute_result"
    }
   ],
   "source": [
    "X_train1, X_test1, y_train1, y_test1 = train_test_split(X, y, test_size = 0.2)\n",
    "X_train2, X_test2, y_train2, y_test2 = train_test_split(X, y, test_size = 0.4)\n",
    "\n",
    "# 학습/평가 데이터 8:2 비율 모형 적합 및 feature scaling\n",
    "\n",
    "model_1 = LinearRegression()\n",
    "model1_1 = LinearRegression(fit_intercept = False)\n",
    "model_1.fit(X_train1, y_train1)\n",
    "model1_1.fit(X_train1, y_train1)\n",
    "\n",
    "X_train1_std = scaler.fit_transform(X_train1) # 독립변수만 scaling\n",
    "X_test1_std = scaler.transform(X_test1) # 독립변수만 scaling\n",
    "\n",
    "model_1_std = LinearRegression()\n",
    "model_1_std1 = LinearRegression(fit_intercept = False)\n",
    "model_1_std.fit(X_train1_std, y_train1)\n",
    "model_1_std1.fit(X_train1_std, y_train1)\n",
    "\n",
    "X_train1_minmax = scaler_minmax.fit_transform(X_train1)\n",
    "X_test1_minmax = scaler_minmax.transform(X_test1)\n",
    "\n",
    "model_1_minmax = LinearRegression()\n",
    "model_1_minmax1 = LinearRegression(fit_intercept = False)\n",
    "model_1_minmax.fit(X_train1_minmax, y_train1)\n",
    "model_1_minmax1.fit(X_train1_minmax, y_train1)\n",
    "\n",
    "# 학습/평가 데이터 6:4 비율 모형 적합 및 feature scaling\n",
    "\n",
    "model_2 = LinearRegression()\n",
    "model1_2 = LinearRegression(fit_intercept = False)\n",
    "model_2.fit(X_train2, y_train2)\n",
    "model1_2.fit(X_train2, y_train2)\n",
    "\n",
    "X_train2_std = scaler.fit_transform(X_train2) # 독립변수만 scaling\n",
    "X_test2_std = scaler.transform(X_test2) # 독립변수만 scaling\n",
    "\n",
    "model_2_std = LinearRegression()\n",
    "model_2_std1 = LinearRegression(fit_intercept = False)\n",
    "model_2_std.fit(X_train2_std, y_train2)\n",
    "model_2_std1.fit(X_train2_std, y_train2)\n",
    "\n",
    "X_train2_minmax = scaler_minmax.fit_transform(X_train2)\n",
    "X_test2_minmax = scaler_minmax.transform(X_test2)\n",
    "\n",
    "model_2_minmax = LinearRegression()\n",
    "model_2_minmax1 =LinearRegression(fit_intercept = False)\n",
    "model_2_minmax.fit(X_train2_minmax, y_train2)\n",
    "model_2_minmax1.fit(X_train2_minmax, y_train2)"
   ]
  },
  {
   "cell_type": "code",
   "execution_count": 78,
   "metadata": {},
   "outputs": [
    {
     "name": "stdout",
     "output_type": "stream",
     "text": [
      "feature scaling 미시행 및 fit_intercept=True : 0.7072131075342746\n",
      "feature scaling 미시행 및 fit_intercept=False : 0.7072131075342625\n",
      "Standardization 시행 및 fit_intercept=True : 0.7070071882614553\n",
      "Standardization 시행 및 fit_intercept=False : 0.3264729515251247\n",
      "Min-max scaling 시행 및 fit_intercept=True : 0.7070966675747187\n",
      "Min-max scaling 시행 및 fit_intercept=False : 0.7072131075342816\n"
     ]
    }
   ],
   "source": [
    "# 학습/평가 데이터 8:2 비율 모형 cross-validation 시행 후 예측력 계산\n",
    "\n",
    "scores11 = cross_val_score(model_1, X_train1, y_train1, cv=5)\n",
    "print(\"feature scaling 미시행 및 fit_intercept=True : \"+str(scores11.mean()))\n",
    "scores12 = cross_val_score(model1_1, X_train1, y_train1, cv=5)\n",
    "print(\"feature scaling 미시행 및 fit_intercept=False : \"+str(scores12.mean()))\n",
    "scores13 = cross_val_score(model_1_std, X_train1_std, y_train1, cv=5)\n",
    "print(\"Standardization 시행 및 fit_intercept=True : \"+str(scores13.mean()))\n",
    "scores14 = cross_val_score(model_1_std1, X_train1_std, y_train1, cv=5)\n",
    "print(\"Standardization 시행 및 fit_intercept=False : \"+str(scores14.mean()))\n",
    "scores15 = cross_val_score(model_1_minmax, X_train1_minmax, y_train1, cv=5)\n",
    "print(\"Min-max scaling 시행 및 fit_intercept=True : \"+str(scores15.mean()))\n",
    "scores16 = cross_val_score(model_1_minmax1, X_train1_minmax, y_train1, cv=5)\n",
    "print(\"Min-max scaling 시행 및 fit_intercept=False : \"+str(scores16.mean()))"
   ]
  },
  {
   "cell_type": "code",
   "execution_count": 79,
   "metadata": {},
   "outputs": [
    {
     "name": "stdout",
     "output_type": "stream",
     "text": [
      "feature scaling 미시행 및 fit_intercept=True : 0.6933286301797772\n",
      "feature scaling 미시행 및 fit_intercept=False : 0.6933286301798043\n",
      "Standardization 시행 및 fit_intercept=True : 0.693610041398331\n",
      "Standardization 시행 및 fit_intercept=False : 0.28498589569378685\n",
      "Min-max scaling 시행 및 fit_intercept=True : 0.6936996393816118\n",
      "Min-max scaling 시행 및 fit_intercept=False : 0.6933286301797681\n"
     ]
    }
   ],
   "source": [
    "# 학습/평가 데이터 6:4 비율 모형 cross-validation 시행 후 예측력 계산\n",
    "\n",
    "scores21 = cross_val_score(model_2, X_train2, y_train2, cv=5)\n",
    "print(\"feature scaling 미시행 및 fit_intercept=True : \"+str(scores21.mean()))\n",
    "scores22 = cross_val_score(model1_2, X_train2, y_train2, cv=5)\n",
    "print(\"feature scaling 미시행 및 fit_intercept=False : \"+str(scores22.mean()))\n",
    "scores23 = cross_val_score(model_2_std, X_train2_std, y_train2, cv=5)\n",
    "print(\"Standardization 시행 및 fit_intercept=True : \"+str(scores23.mean()))\n",
    "scores24 = cross_val_score(model_2_std1, X_train2_std, y_train2, cv=5)\n",
    "print(\"Standardization 시행 및 fit_intercept=False : \"+str(scores24.mean()))\n",
    "scores25 = cross_val_score(model_2_minmax, X_train2_minmax, y_train2, cv=5)\n",
    "print(\"Min-max scaling 시행 및 fit_intercept=True : \"+str(scores25.mean()))\n",
    "scores26 = cross_val_score(model_2_minmax1, X_train2_minmax, y_train2, cv=5)\n",
    "print(\"Min-max scaling 시행 및 fit_intercept=False : \"+str(scores26.mean()))"
   ]
  },
  {
   "cell_type": "code",
   "execution_count": 80,
   "metadata": {},
   "outputs": [
    {
     "name": "stdout",
     "output_type": "stream",
     "text": [
      "0.7311789923901482\n",
      "0.7311789923902182\n",
      "0.7310315955766425\n",
      "0.3677112888111118\n",
      "0.7311885069473871\n",
      "0.731178992390173\n"
     ]
    }
   ],
   "source": [
    "# cross-validation folds = 3\n",
    "\n",
    "scores = cross_val_score(model, X_train, y_train, cv=3)\n",
    "print(scores.mean())\n",
    "scores1 = cross_val_score(model1, X_train, y_train, cv=3)\n",
    "print(scores1.mean())\n",
    "scores_std = cross_val_score(model_std, X_train_std, y_train, cv=3)\n",
    "print(scores_std.mean())\n",
    "scores_std1 = cross_val_score(model_std1, X_train_std, y_train, cv=3)\n",
    "print(scores_std1.mean())\n",
    "scores_minmax = cross_val_score(model_minmax, X_train_minmax, y_train, cv=3)\n",
    "print(scores_minmax.mean())\n",
    "scores_minmax1 = cross_val_score(model_minmax1, X_train_minmax, y_train, cv=3)\n",
    "print(scores_minmax1.mean())"
   ]
  },
  {
   "cell_type": "code",
   "execution_count": 81,
   "metadata": {},
   "outputs": [
    {
     "name": "stdout",
     "output_type": "stream",
     "text": [
      "0.7401615873641952\n",
      "0.7401615873642048\n",
      "0.7396854047467084\n",
      "0.365497215251456\n",
      "0.7401336776950262\n",
      "0.7401615873641982\n"
     ]
    }
   ],
   "source": [
    "# cross-validation folds = 5\n",
    "\n",
    "scores = cross_val_score(model, X_train, y_train, cv=5)\n",
    "print(scores.mean())\n",
    "scores1 = cross_val_score(model1, X_train, y_train, cv=5)\n",
    "print(scores1.mean())\n",
    "scores_std = cross_val_score(model_std, X_train_std, y_train, cv=5)\n",
    "print(scores_std.mean())\n",
    "scores_std1 = cross_val_score(model_std1, X_train_std, y_train, cv=5)\n",
    "print(scores_std1.mean())\n",
    "scores_minmax = cross_val_score(model_minmax, X_train_minmax, y_train, cv=5)\n",
    "print(scores_minmax.mean())\n",
    "scores_minmax1 = cross_val_score(model_minmax1, X_train_minmax, y_train, cv=5)\n",
    "print(scores_minmax1.mean())"
   ]
  },
  {
   "cell_type": "code",
   "execution_count": 82,
   "metadata": {},
   "outputs": [
    {
     "name": "stdout",
     "output_type": "stream",
     "text": [
      "0.7286521246228747\n",
      "0.7286521246228361\n",
      "0.7285633583126341\n",
      "0.35604862944497345\n",
      "0.7285209345316659\n",
      "0.7286521246228489\n"
     ]
    }
   ],
   "source": [
    "# cross-validation folds = 7\n",
    "\n",
    "scores = cross_val_score(model, X_train, y_train, cv=7)\n",
    "print(scores.mean())\n",
    "scores1 = cross_val_score(model1, X_train, y_train, cv=7)\n",
    "print(scores1.mean())\n",
    "scores_std = cross_val_score(model_std, X_train_std, y_train, cv=7)\n",
    "print(scores_std.mean())\n",
    "scores_std1 = cross_val_score(model_std1, X_train_std, y_train, cv=7)\n",
    "print(scores_std1.mean())\n",
    "scores_minmax = cross_val_score(model_minmax, X_train_minmax, y_train, cv=7)\n",
    "print(scores_minmax.mean())\n",
    "scores_minmax1 = cross_val_score(model_minmax1, X_train_minmax, y_train, cv=7)\n",
    "print(scores_minmax1.mean())"
   ]
  },
  {
   "cell_type": "code",
   "execution_count": 103,
   "metadata": {},
   "outputs": [
    {
     "data": {
      "text/plain": [
       "array([ 3.96459902e+03,  1.37229774e+05,  1.61003539e+02,  2.20716498e+02,\n",
       "       -6.47559426e+04,  1.85002748e+02, -4.81776717e+04,  1.98515865e+05,\n",
       "       -2.43798753e+05,  9.34605593e+04,  8.18853946e+04,  3.39076489e+03,\n",
       "        1.59999499e+05, -2.45275658e+05, -3.89477328e+04,  4.59167897e+04,\n",
       "       -3.37164864e+05, -2.55326310e+05, -5.73656754e+04,  9.75571517e+04,\n",
       "        2.53779034e+05,  3.00657872e+05,  3.87366713e+03, -1.29799315e+04])"
      ]
     },
     "execution_count": 103,
     "metadata": {},
     "output_type": "execute_result"
    }
   ],
   "source": [
    "model.coef_"
   ]
  },
  {
   "cell_type": "code",
   "execution_count": 104,
   "metadata": {},
   "outputs": [
    {
     "data": {
      "text/plain": [
       "array([ 3.96459902e+03,  1.37229774e+05,  1.61003539e+02,  2.20716498e+02,\n",
       "       -6.47559426e+04,  1.85002748e+02,  5.36376681e+07,  5.38843617e+07,\n",
       "        5.34420471e+07,  5.37793064e+07,  5.37677312e+07,  5.36892366e+07,\n",
       "        5.38458453e+07,  5.34405702e+07,  2.14353906e+07,  2.15202551e+07,\n",
       "        2.11371735e+07,  2.12190120e+07,  2.14169727e+07,  2.15718955e+07,\n",
       "        2.17281174e+07,  2.17749962e+07,  2.14782120e+07,  2.14613584e+07])"
      ]
     },
     "execution_count": 104,
     "metadata": {},
     "output_type": "execute_result"
    }
   ],
   "source": [
    "model1.coef_"
   ]
  },
  {
   "cell_type": "code",
   "execution_count": 105,
   "metadata": {},
   "outputs": [
    {
     "data": {
      "text/plain": [
       "array([ 9.31680771e+05,  9.40023952e+05,  1.53053184e+07,  4.41344709e+06,\n",
       "       -5.82803484e+05,  2.03503023e+03, -4.81776717e+04,  1.98515865e+05,\n",
       "       -2.43798753e+05,  9.34605593e+04,  8.18853946e+04,  3.39076489e+03,\n",
       "        1.59999499e+05, -2.45275658e+05, -3.89477328e+04,  4.59167897e+04,\n",
       "       -3.37164864e+05, -2.55326310e+05, -5.73656754e+04,  9.75571517e+04,\n",
       "        2.53779034e+05,  3.00657872e+05,  3.87366713e+03, -1.29799315e+04])"
      ]
     },
     "execution_count": 105,
     "metadata": {},
     "output_type": "execute_result"
    }
   ],
   "source": [
    "model_minmax.coef_"
   ]
  },
  {
   "cell_type": "code",
   "execution_count": 106,
   "metadata": {},
   "outputs": [
    {
     "data": {
      "text/plain": [
       "array([ 9.31680771e+05,  9.40023952e+05,  1.53053184e+07,  4.41344709e+06,\n",
       "       -5.82803484e+05,  2.03503023e+03, -3.93443238e+05, -1.46749701e+05,\n",
       "       -5.89064320e+05, -2.51805007e+05, -2.63380172e+05, -3.41874802e+05,\n",
       "       -1.85266068e+05, -5.90541225e+05, -1.77053960e+05, -9.21894370e+04,\n",
       "       -4.75271091e+05, -3.93432537e+05, -1.95471902e+05, -4.05490750e+04,\n",
       "        1.15672808e+05,  1.62551645e+05, -1.34232560e+05, -1.51086158e+05])"
      ]
     },
     "execution_count": 106,
     "metadata": {},
     "output_type": "execute_result"
    }
   ],
   "source": [
    "model_minmax1.coef_"
   ]
  }
 ],
 "metadata": {
  "kernelspec": {
   "display_name": "Python 3",
   "language": "python",
   "name": "python3"
  },
  "language_info": {
   "codemirror_mode": {
    "name": "ipython",
    "version": 3
   },
   "file_extension": ".py",
   "mimetype": "text/x-python",
   "name": "python",
   "nbconvert_exporter": "python",
   "pygments_lexer": "ipython3",
   "version": "3.8.3"
  }
 },
 "nbformat": 4,
 "nbformat_minor": 4
}
